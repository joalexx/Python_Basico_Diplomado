{
  "nbformat": 4,
  "nbformat_minor": 0,
  "metadata": {
    "colab": {
      "name": "Ejercicios.ipynb",
      "provenance": [],
      "authorship_tag": "ABX9TyOYP0IB2RJzLRO3mMciE5Fm",
      "include_colab_link": true
    },
    "kernelspec": {
      "name": "python3",
      "display_name": "Python 3"
    },
    "language_info": {
      "name": "python"
    }
  },
  "cells": [
    {
      "cell_type": "markdown",
      "metadata": {
        "id": "view-in-github",
        "colab_type": "text"
      },
      "source": [
        "<a href=\"https://colab.research.google.com/github/joalexx/Python_Basico_Diplomado/blob/main/Ejercicios.ipynb\" target=\"_parent\"><img src=\"https://colab.research.google.com/assets/colab-badge.svg\" alt=\"Open In Colab\"/></a>"
      ]
    },
    {
      "cell_type": "markdown",
      "source": [
        "**1.   Crear una variable numérica < 9 y > 4**"
      ],
      "metadata": {
        "id": "J2HwzX-hNepc"
      }
    },
    {
      "cell_type": "code",
      "source": [
        "x = 5\n",
        "print(x)\n",
        "print(type(x))"
      ],
      "metadata": {
        "colab": {
          "base_uri": "https://localhost:8080/"
        },
        "id": "KXlEDZF6Nh76",
        "outputId": "dc5cbd28-9943-40f7-8ec5-ec24359267c6"
      },
      "execution_count": 3,
      "outputs": [
        {
          "output_type": "stream",
          "name": "stdout",
          "text": [
            "5\n",
            "<class 'int'>\n"
          ]
        }
      ]
    },
    {
      "cell_type": "markdown",
      "source": [
        "**2. Crear una lista de números > -9**"
      ],
      "metadata": {
        "id": "yh_7uxynOgkU"
      }
    },
    {
      "cell_type": "code",
      "source": [
        "lista = list(range(-9,10))\n",
        "print(lista)"
      ],
      "metadata": {
        "colab": {
          "base_uri": "https://localhost:8080/"
        },
        "id": "V1hJIk5EOpCa",
        "outputId": "258e60e7-87ce-41f6-be8d-b9f5e1e4dbaa"
      },
      "execution_count": 8,
      "outputs": [
        {
          "output_type": "stream",
          "name": "stdout",
          "text": [
            "[-9, -8, -7, -6, -5, -4, -3, -2, -1, 0, 1, 2, 3, 4, 5, 6, 7, 8, 9]\n"
          ]
        }
      ]
    },
    {
      "cell_type": "markdown",
      "source": [
        "**3. Elevar todos los elementos de la lista anterior al cuadrado y agruparlos en una sola lista diferente.**"
      ],
      "metadata": {
        "id": "aRAfJCRTPK5r"
      }
    },
    {
      "cell_type": "code",
      "source": [
        "num_ele = [x**2 for x in lista]\n",
        "print(num_ele)\n",
        "print(type(num_ele))"
      ],
      "metadata": {
        "colab": {
          "base_uri": "https://localhost:8080/"
        },
        "id": "8I101lP1PRyD",
        "outputId": "859769ed-9513-470d-ee9c-dcc43d71a624"
      },
      "execution_count": 12,
      "outputs": [
        {
          "output_type": "stream",
          "name": "stdout",
          "text": [
            "[81, 64, 49, 36, 25, 16, 9, 4, 1, 0, 1, 4, 9, 16, 25, 36, 49, 64, 81]\n",
            "<class 'list'>\n"
          ]
        }
      ]
    },
    {
      "cell_type": "markdown",
      "source": [
        "\n",
        "**4. Crear una Secuencia con los números del 1 al 20**\n",
        "\n"
      ],
      "metadata": {
        "id": "LXH5gzWoPSz7"
      }
    },
    {
      "cell_type": "code",
      "source": [
        "Secuencia = list(range(1,21))\n",
        "print(Secuencia)"
      ],
      "metadata": {
        "colab": {
          "base_uri": "https://localhost:8080/"
        },
        "id": "ljAtyhQKQFdc",
        "outputId": "2a0bfd4f-bc4a-4130-bcb1-0c5e03bf7a71"
      },
      "execution_count": 14,
      "outputs": [
        {
          "output_type": "stream",
          "name": "stdout",
          "text": [
            "[1, 2, 3, 4, 5, 6, 7, 8, 9, 10, 11, 12, 13, 14, 15, 16, 17, 18, 19, 20]\n"
          ]
        }
      ]
    },
    {
      "cell_type": "markdown",
      "source": [
        "**5. Escribir un programa que solicite un valor entero al usuario y determine si es par o impar.**"
      ],
      "metadata": {
        "id": "XzdSavc1SToU"
      }
    },
    {
      "cell_type": "code",
      "source": [
        "def esParImpar(num):\n",
        "  if num % 2 == 0:\n",
        "    respuesta = print(\"El número es par\")\n",
        "  else:\n",
        "    respuesta = print(\"El número es impar\")\n",
        "  return respuesta\n"
      ],
      "metadata": {
        "id": "K0UTPYNuTQAc"
      },
      "execution_count": 24,
      "outputs": []
    },
    {
      "cell_type": "code",
      "source": [
        "esParImpar(121)"
      ],
      "metadata": {
        "colab": {
          "base_uri": "https://localhost:8080/"
        },
        "id": "a0r3qR5zXDXk",
        "outputId": "29f9d31e-5f57-45be-ca31-ab7c62c7f4c7"
      },
      "execution_count": 25,
      "outputs": [
        {
          "output_type": "stream",
          "name": "stdout",
          "text": [
            "El número es impar\n"
          ]
        }
      ]
    },
    {
      "cell_type": "markdown",
      "source": [
        "7.   Escribir un programa que muestre por pantalla la categoría del empleado teniendo en cuenta que:\n",
        " *  Si el código es divisible por 2, por 3 y por 5, la categoría del empleado es “Director general”.\n",
        "  * Si el código es divisible por 3 y por 5 pero no por 2, la categoría del empleado es “Directivo”.\n",
        "  * Si el código es divisible por 2, pero no por 3 ni por 5, la categoría del empleado es “Staff”.\n",
        "  * Si el código no es divisible por 2, ni por 3 ni por 5, la categoría del empleado es “Seguridad”.  \n",
        "  Recuerde que: Un numero X es divisible por otro Y; si X mod Y = 0."
      ],
      "metadata": {
        "id": "arYQxwvpTRbk"
      }
    },
    {
      "cell_type": "code",
      "source": [
        "def programaEmpleado(num):\n",
        "  if  (num % 2 == 0 and num % 3 == 0 and num % 5 == 0):\n",
        "    respuesta = \"Director general\"\n",
        "  elif (num % 3 == 0 and num % 5 == 0 and num % 2 != 0):\n",
        "    respuesta = \"Directivo\"\n",
        "  elif (num % 2 == 0 and num % 3 != 0 and num % 5 != 0):\n",
        "    respuesta = \"Staf\"\n",
        "  elif (num % 2 != 0 and num % 3 != 0 and num % 5 != 0):\n",
        "    respuesta = \"Seguridad\"\n",
        "  else:\n",
        "    respuesta = \"No tiene categoria\"\n",
        "  return print(respuesta)\n",
        "\n"
      ],
      "metadata": {
        "id": "u1AnFMkVY9iX"
      },
      "execution_count": 38,
      "outputs": []
    },
    {
      "cell_type": "code",
      "source": [
        "programaEmpleado(30)"
      ],
      "metadata": {
        "colab": {
          "base_uri": "https://localhost:8080/"
        },
        "id": "jmr_eNpwzJFJ",
        "outputId": "ed67ccdc-a22f-431f-bab2-90cb9f16e26b"
      },
      "execution_count": 39,
      "outputs": [
        {
          "output_type": "stream",
          "name": "stdout",
          "text": [
            "Director general\n"
          ]
        }
      ]
    },
    {
      "cell_type": "markdown",
      "source": [
        "8.    La fecha del domingo de Pascua corresponde al primer domingo después de la primera luna llena que sigue al\n",
        "equinoccio de primavera. Dado un año, los cálculos que permiten conocer esta fecha son:\n",
        "    * A = año %19\n",
        "    * B = año % 4\n",
        "    * C = año % 7\n",
        "    * D = (19 * A + 24) % 30\n",
        "    * E = (2 * B + 4 * C + 6 * D + 5) % 7\n",
        "    * N = (22 + D + E)\n",
        "Donde N indica el número del día del mes de marzo (o abril si N es superior a 31) correspondiente al domingo de Pascua. \n",
        "\n",
        "Escribir un programa que lea un año y muestre el día y el mes en el que se celebró o se celebrará el domingo de Pascua ese año. \n",
        "Utilizar una función a la que se le pase como parámetro el año y retorne el valor de N. El programa principal realiza el resto del proceso."
      ],
      "metadata": {
        "id": "9DwACMUizy1J"
      }
    },
    {
      "cell_type": "code",
      "source": [
        "A = lambda año: año%19\n",
        "B = lambda año: año%4\n",
        "C = lambda año: año%7"
      ],
      "metadata": {
        "id": "yYwWQaEezxnJ"
      },
      "execution_count": 66,
      "outputs": []
    },
    {
      "cell_type": "code",
      "source": [
        "def pascua(año):\n",
        "  D = (19 * A(año) + 24) % 30\n",
        "  E = (2 * B(año) + 4 * C(año) + 6 * D + 5) % 7\n",
        "  N = (22 + D + E) \n",
        "  return print(N)"
      ],
      "metadata": {
        "id": "KJxjHDFe0e7p"
      },
      "execution_count": 67,
      "outputs": []
    },
    {
      "cell_type": "code",
      "source": [
        "pascua(2022)"
      ],
      "metadata": {
        "id": "DgMJ3pqT4cDa"
      },
      "execution_count": null,
      "outputs": []
    },
    {
      "cell_type": "markdown",
      "source": [
        "9.   Corrija la sintaxis de los siguientes códigos:"
      ],
      "metadata": {
        "id": "4tmQu9Cw0fph"
      }
    },
    {
      "cell_type": "code",
      "source": [
        "threshold = 5\n",
        "values = list(range(10))\n",
        "#print(values)\n",
        "for v in values:\n",
        "  if (v > threshold):\n",
        "    print(v)\n"
      ],
      "metadata": {
        "id": "cNbGgB4t06QC"
      },
      "execution_count": null,
      "outputs": []
    },
    {
      "cell_type": "code",
      "source": [
        "for i in range(5):\n",
        "  print(i)"
      ],
      "metadata": {
        "id": "g-ZUBw4F2Rr5"
      },
      "execution_count": null,
      "outputs": []
    },
    {
      "cell_type": "code",
      "source": [
        "counter = 0\n",
        "while counter < 10:\n",
        "  print(counter)\n",
        "  counter = counter + 1"
      ],
      "metadata": {
        "id": "znJd7Gm80mhH"
      },
      "execution_count": null,
      "outputs": []
    },
    {
      "cell_type": "markdown",
      "source": [
        "10.  Cree una lista de texto cualquiera y genere un código que imprima todos los elementos que poseen más de 3 caracteres"
      ],
      "metadata": {
        "id": "xRPo1hjM22Mh"
      }
    },
    {
      "cell_type": "code",
      "source": [
        "ListdeTexto = [\"Una\",\"El Imperio Contraataca\",\"La\",\"Pelicula\",\"El Retorno del Jedi\",\"La Amenaza Fantasma\",\"ab\",\"abc\",\"abcd\",\"La Guerra de los Clones\",\"A\"]\n",
        "print(ListdeTexto)\n",
        "#solucion\n",
        "for x  in ListdeTexto:\n",
        "  if len(x) > 3: print(x)"
      ],
      "metadata": {
        "colab": {
          "base_uri": "https://localhost:8080/"
        },
        "id": "E3-Pt0Al24ZR",
        "outputId": "bb942be4-ec9f-4f67-f6ef-44aacde58da1"
      },
      "execution_count": 82,
      "outputs": [
        {
          "output_type": "stream",
          "name": "stdout",
          "text": [
            "['Una', 'El Imperio Contraataca', 'La', 'Pelicula', 'El Retorno del Jedi', 'La Amenaza Fantasma', 'ab', 'abc', 'abcd', 'La Guerra de los Clones', 'A']\n",
            "El Imperio Contraataca\n",
            "Pelicula\n",
            "El Retorno del Jedi\n",
            "La Amenaza Fantasma\n",
            "abcd\n",
            "La Guerra de los Clones\n"
          ]
        }
      ]
    },
    {
      "cell_type": "markdown",
      "source": [
        "11.  Separar la siguiente lista de tuplas en dos, de forma que todos los números estén en una y los restos en otra"
      ],
      "metadata": {
        "id": "EcyinOew24xa"
      }
    },
    {
      "cell_type": "code",
      "source": [
        "data = [(1,'banana'),(2,'pear'),(3,'sweet potato'),(4,'melon')]\n",
        "print(data)\n",
        "print(type(data))\n",
        "numeros = list(\"\")\n",
        "letras = list(\"\")\n",
        "for x  in data:\n",
        "    numeros.append(x[0])\n",
        "    letras.append(x[1])\n",
        "\n",
        "print(numeros)\n",
        "print(letras)"
      ],
      "metadata": {
        "id": "1TaQJIF02_ZA"
      },
      "execution_count": null,
      "outputs": []
    },
    {
      "cell_type": "markdown",
      "source": [
        "12. Escriba una función que responda \"Hola, ¿cómo estás?, cuando reciba como entrada \"Hola\", y que se despida con cualquier texto que reciba como entrada."
      ],
      "metadata": {
        "id": "X10lsyKV3AeZ"
      }
    },
    {
      "cell_type": "code",
      "source": [
        "def Saludo(text):\n",
        "  if  text == 'Hola':\n",
        "    return print('Hola, ¿cómo estás?')\n",
        "  else:\n",
        "    return print('Fue un gusto. Hasta Luego?')\n",
        "  "
      ],
      "metadata": {
        "id": "t_X87EgR3DmJ"
      },
      "execution_count": 1,
      "outputs": []
    },
    {
      "cell_type": "code",
      "source": [
        "Saludo('Hola')"
      ],
      "metadata": {
        "colab": {
          "base_uri": "https://localhost:8080/"
        },
        "id": "HS1tn7ggrELk",
        "outputId": "0db86674-e7a3-4cbe-db39-db23b6c63d44"
      },
      "execution_count": 4,
      "outputs": [
        {
          "output_type": "stream",
          "name": "stdout",
          "text": [
            "Hola, ¿cómo estás?\n"
          ]
        }
      ]
    }
  ]
}